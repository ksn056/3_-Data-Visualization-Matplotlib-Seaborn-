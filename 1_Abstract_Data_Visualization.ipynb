{
 "cells": [
  {
   "cell_type": "code",
   "execution_count": null,
   "id": "bd7b5b54",
   "metadata": {},
   "outputs": [],
   "source": [
    "import matplotlib.pyplot as plt"
   ]
  },
  {
   "cell_type": "code",
   "execution_count": null,
   "id": "a47fa59d",
   "metadata": {},
   "outputs": [],
   "source": [
    "years = [2010, 2011, 2012, 2013, 2014, 2015]\n",
    "yield_apples = [0.895, 0.91, 0.919, 0.926, 0.929, 0.931]"
   ]
  },
  {
   "cell_type": "code",
   "execution_count": null,
   "id": "0884ba2d",
   "metadata": {},
   "outputs": [],
   "source": [
    "\n",
    "plt.plot(years,yield_apples)"
   ]
  },
  {
   "cell_type": "code",
   "execution_count": null,
   "id": "5b113914",
   "metadata": {},
   "outputs": [],
   "source": [
    "\n",
    "plt.plot(years,yield_apples,marker='*')"
   ]
  },
  {
   "cell_type": "code",
   "execution_count": null,
   "id": "c00e6270",
   "metadata": {},
   "outputs": [],
   "source": [
    "plt.plot(years,yield_apples,marker='+')"
   ]
  },
  {
   "cell_type": "code",
   "execution_count": null,
   "id": "b8abbc55",
   "metadata": {},
   "outputs": [],
   "source": [
    "plt.plot(years,yield_apples,marker='*',ms=10)"
   ]
  },
  {
   "cell_type": "code",
   "execution_count": null,
   "id": "40592324",
   "metadata": {},
   "outputs": [],
   "source": [
    "years = [2010, 2011, 2012, 2013, 2014, 2015]\n",
    "yield_apples = [0.895, 0.91, 0.919, 0.926, 0.929, 0.931]\n",
    "plt.plot(years,yield_apples,marker='*',ms=10)\n",
    "plt.xlabel('years')\n",
    "plt.ylabel('Crop Yield')\n",
    "plt.title(\"Crop Yield Vs Year\")"
   ]
  },
  {
   "cell_type": "code",
   "execution_count": null,
   "id": "6766ab78",
   "metadata": {},
   "outputs": [],
   "source": [
    "years = [2010, 2011, 2012, 2013, 2014, 2015]\n",
    "yield_apples = [0.895, 0.91, 0.919, 0.926, 0.929, 0.931]\n",
    "plt.plot(years,yield_apples,marker='*',ms=10,c='g')\n",
    "plt.xlabel('years')\n",
    "plt.ylabel('Crop Yield')\n",
    "plt.title(\"Crop Yield Vs Year\")"
   ]
  },
  {
   "cell_type": "code",
   "execution_count": null,
   "id": "a1d2df74",
   "metadata": {},
   "outputs": [],
   "source": [
    "import seaborn as sns"
   ]
  },
  {
   "cell_type": "code",
   "execution_count": null,
   "id": "a8b56d29",
   "metadata": {},
   "outputs": [],
   "source": [
    "#sns.set_style(\"whitegrid\")\n",
    "sns.set_style(\"darkgrid\")"
   ]
  },
  {
   "cell_type": "code",
   "execution_count": null,
   "id": "8864d292",
   "metadata": {},
   "outputs": [],
   "source": [
    "years = [2010, 2011, 2012, 2013, 2014, 2015]\n",
    "yield_apples = [0.895, 0.91, 0.919, 0.926, 0.929, 0.931]\n",
    "plt.plot(years,yield_apples,marker='*',ms=10,c='g')\n",
    "\n",
    "\n",
    "plt.xlabel('years')\n",
    "plt.ylabel('Crop Yield')\n",
    "plt.title(\"Crop Yield Vs Year\")"
   ]
  },
  {
   "cell_type": "code",
   "execution_count": null,
   "id": "dec3622c",
   "metadata": {},
   "outputs": [],
   "source": [
    "years = [2010, 2011, 2012, 2013, 2014, 2015]\n",
    "yield_apples = [0.895, 0.91, 0.919, 0.926, 0.929, 0.931]\n",
    "plt.scatter(years,yield_apples,c='r')\n",
    "plt.xlabel('years')\n",
    "plt.ylabel('Crop Yield')\n",
    "plt.title(\"Crop Yield Vs Year\")"
   ]
  },
  {
   "cell_type": "code",
   "execution_count": null,
   "id": "2a155d6d",
   "metadata": {},
   "outputs": [],
   "source": [
    "\n",
    "import matplotlib.pyplot as plt\n",
    "import seaborn as sns\n",
    "years = [2010, 2011, 2012, 2013, 2014, 2015]\n",
    "yield_apples = [0.895, 0.91, 0.919, 0.926, 0.929, 0.931]\n",
    "sns.lineplot(years ,yield_apples)\n",
    "\n",
    "plt.xlabel('years')\n",
    "plt.ylabel('Crop Yield')\n",
    "plt.title(\"Crop Yield Vs Year\")"
   ]
  },
  {
   "cell_type": "code",
   "execution_count": null,
   "id": "39573bac",
   "metadata": {},
   "outputs": [],
   "source": [
    "import matplotlib.pyplot as plt\n",
    "import seaborn as sns\n",
    "years = [2010, 2011, 2012, 2013, 2014, 2015]\n",
    "yield_apples = [0.895, 0.91, 0.919, 0.926, 0.929, 0.931]\n",
    "sns.scatterplot(years ,yield_apples)\n",
    "\n",
    "plt.xlabel('years')\n",
    "plt.ylabel('Crop Yield')\n",
    "plt.title(\"Crop Yield Vs Year\")"
   ]
  },
  {
   "cell_type": "code",
   "execution_count": null,
   "id": "7d8a75c8",
   "metadata": {},
   "outputs": [],
   "source": [
    "import matplotlib.pyplot as plt\n",
    "import seaborn as sns\n",
    "years = [2010, 2011, 2012, 2013, 2014, 2015]\n",
    "yield_apples = [0.895, 0.91, 0.919, 0.926, 0.929, 0.931]\n",
    "sns.regplot(years ,yield_apples)\n",
    "\n",
    "plt.xlabel('years')\n",
    "plt.ylabel('Crop Yield')\n",
    "plt.title(\"Crop Yield Vs Year\")"
   ]
  },
  {
   "cell_type": "code",
   "execution_count": null,
   "id": "b10660e2",
   "metadata": {},
   "outputs": [],
   "source": [
    "import matplotlib.pyplot as plt\n",
    "years = [2010, 2011, 2012, 2013, 2014, 2015]\n",
    "apples = [0.895, 0.51, 0.39, 0.926, 0.39, 0.931]\n",
    "plt.bar(years,apples)\n",
    "plt.xlabel('years')\n",
    "plt.ylabel('Apple Yield')\n",
    "plt.title(\"Apple Yield Vs Year\")"
   ]
  },
  {
   "cell_type": "code",
   "execution_count": null,
   "id": "8cbf97ae",
   "metadata": {},
   "outputs": [],
   "source": [
    "import matplotlib.pyplot as plt\n",
    "import seaborn as sns\n",
    "\n",
    "years = [2010, 2011, 2012, 2013, 2014, 2015]\n",
    "apples = [0.895, 0.51, 0.39, 0.926, 0.39, 0.931]\n",
    "sns.barplot(years,apples)\n",
    "plt.xlabel('years')\n",
    "plt.ylabel('Apple Yield')\n",
    "plt.title(\"Apple Yield Vs Year\")"
   ]
  },
  {
   "cell_type": "code",
   "execution_count": null,
   "id": "6a49c575",
   "metadata": {},
   "outputs": [],
   "source": [
    "import matplotlib.pyplot as plt\n",
    "import seaborn as sns\n",
    "\n",
    "years = [2010, 2011, 2012, 2013, 2014, 2015]\n",
    "\n",
    "apples = [0.895, 0.51, 0.39, 0.926, 0.39, 0.931]\n",
    "\n",
    "pottato = [0.90, 0.81, 0.59, 0.726, 0.929, 0.931]\n",
    "\n",
    "plt.bar(years,pottato,bottom=pottato)\n",
    "\n",
    "plt.bar(years,apples)\n",
    "\n",
    "plt.xlabel('years')\n",
    "plt.ylabel('Apple Yield')\n",
    "plt.title(\"Apple and Pottato Yield Vs Year\")"
   ]
  },
  {
   "cell_type": "code",
   "execution_count": null,
   "id": "5157cbcb",
   "metadata": {},
   "outputs": [],
   "source": [
    "import matplotlib.pyplot as plt\n",
    "import seaborn as sns\n",
    "\n",
    "years = [2010, 2011, 2012, 2013, 2014, 2015]\n",
    "\n",
    "apples = [0.895, 0.51, 0.39, 0.926, 0.39, 0.931]\n",
    "\n",
    "pottato = [0.90, 0.81, 0.59, 0.726, 0.929, 0.931]\n",
    "\n",
    "sns.barplot(years,pottato,bottom=pottato)\n",
    "\n",
    "sns.barplot(years,apples)\n",
    "\n",
    "plt.xlabel('years')\n",
    "plt.ylabel('Apple Yield')\n",
    "plt.title(\"Apple and Pottato Yield Vs Year\")"
   ]
  },
  {
   "cell_type": "markdown",
   "id": "2f55b9a1",
   "metadata": {},
   "source": [
    "# Dataset"
   ]
  },
  {
   "cell_type": "code",
   "execution_count": null,
   "id": "ff1c60fb",
   "metadata": {},
   "outputs": [],
   "source": [
    "df=sns.load_dataset(\"tips\")\n",
    "df.head()"
   ]
  },
  {
   "cell_type": "code",
   "execution_count": null,
   "id": "659e3655",
   "metadata": {},
   "outputs": [],
   "source": [
    "df.info()"
   ]
  },
  {
   "cell_type": "code",
   "execution_count": null,
   "id": "3a607c94",
   "metadata": {},
   "outputs": [],
   "source": [
    "df[\"smoker\"].value_counts()"
   ]
  },
  {
   "cell_type": "code",
   "execution_count": null,
   "id": "5e4a914a",
   "metadata": {},
   "outputs": [],
   "source": [
    "plt.hist(df[\"smoker\"])"
   ]
  },
  {
   "cell_type": "code",
   "execution_count": null,
   "id": "1b33ee2d",
   "metadata": {},
   "outputs": [],
   "source": [
    "sns.histplot(df[\"smoker\"])"
   ]
  },
  {
   "cell_type": "code",
   "execution_count": null,
   "id": "4fc3d1e2",
   "metadata": {},
   "outputs": [],
   "source": [
    "sns.lineplot(df[\"total_bill\"],df[\"tip\"])"
   ]
  },
  {
   "cell_type": "code",
   "execution_count": null,
   "id": "848b86e3",
   "metadata": {},
   "outputs": [],
   "source": [
    "sns.regplot(df[\"total_bill\"],df[\"tip\"])"
   ]
  },
  {
   "cell_type": "code",
   "execution_count": null,
   "id": "f18b16c1",
   "metadata": {},
   "outputs": [],
   "source": [
    "sns.barplot(x=df[\"day\"], y=df[\"total_bill\"]);"
   ]
  },
  {
   "cell_type": "code",
   "execution_count": null,
   "id": "bb116f49",
   "metadata": {},
   "outputs": [],
   "source": [
    "sns.barplot(x=df[\"day\"], y=df[\"total_bill\"],hue=df['sex']);"
   ]
  },
  {
   "cell_type": "code",
   "execution_count": null,
   "id": "afc55760",
   "metadata": {},
   "outputs": [],
   "source": [
    "sns.regplot(df[\"total_bill\"],df[\"size\"])"
   ]
  },
  {
   "cell_type": "code",
   "execution_count": null,
   "id": "ea09623e",
   "metadata": {},
   "outputs": [],
   "source": [
    "sns.relplot(df[\"total_bill\"],df[\"size\"],hue=df['sex'])"
   ]
  },
  {
   "cell_type": "code",
   "execution_count": null,
   "id": "3508e099",
   "metadata": {},
   "outputs": [],
   "source": [
    "sns.relplot(df[\"total_bill\"],df[\"size\"],hue=df['smoker'])"
   ]
  },
  {
   "cell_type": "code",
   "execution_count": null,
   "id": "96a5d6e3",
   "metadata": {},
   "outputs": [],
   "source": [
    "sns.lmplot(data=df, x=\"total_bill\", y=\"tip\", col=\"time\", hue=\"smoker\")"
   ]
  },
  {
   "cell_type": "markdown",
   "id": "36458c6a",
   "metadata": {},
   "source": [
    "### Plots for categorical data"
   ]
  },
  {
   "cell_type": "code",
   "execution_count": null,
   "id": "88be041b",
   "metadata": {},
   "outputs": [],
   "source": [
    "sns.catplot(data=df, x=\"day\", y=\"total_bill\")"
   ]
  },
  {
   "cell_type": "code",
   "execution_count": null,
   "id": "240c65de",
   "metadata": {},
   "outputs": [],
   "source": [
    "df"
   ]
  },
  {
   "cell_type": "code",
   "execution_count": null,
   "id": "6cfe8974",
   "metadata": {},
   "outputs": [],
   "source": [
    "sns.catplot(data=df, x=\"sex\", y=\"total_bill\")"
   ]
  },
  {
   "cell_type": "code",
   "execution_count": null,
   "id": "d743def9",
   "metadata": {},
   "outputs": [],
   "source": [
    "sns.catplot(data=df, x=\"sex\", y=\"total_bill\",hue='smoker')"
   ]
  },
  {
   "cell_type": "code",
   "execution_count": null,
   "id": "8872fafa",
   "metadata": {},
   "outputs": [],
   "source": [
    "sns.catplot(data=df, x=\"sex\", y=\"total_bill\",hue='day')"
   ]
  },
  {
   "cell_type": "code",
   "execution_count": null,
   "id": "c23a14da",
   "metadata": {},
   "outputs": [],
   "source": [
    "sns.catplot(data=df, x=\"day\", y=\"total_bill\")"
   ]
  },
  {
   "cell_type": "code",
   "execution_count": null,
   "id": "b2a2e6a4",
   "metadata": {},
   "outputs": [],
   "source": [
    "sns.catplot(data=df, kind=\"swarm\", x=\"day\", y=\"total_bill\")"
   ]
  },
  {
   "cell_type": "code",
   "execution_count": null,
   "id": "ed128b95",
   "metadata": {},
   "outputs": [],
   "source": [
    "\n",
    "sns.catplot(data=df, kind=\"strip\", x=\"day\", y=\"total_bill\")"
   ]
  },
  {
   "cell_type": "code",
   "execution_count": null,
   "id": "610cbeb3",
   "metadata": {},
   "outputs": [],
   "source": [
    "\n",
    "sns.catplot(data=df, x=\"day\", y=\"total_bill\",hue='sex')"
   ]
  },
  {
   "cell_type": "code",
   "execution_count": null,
   "id": "fd4c7e2a",
   "metadata": {},
   "outputs": [],
   "source": [
    "\n",
    "sns.catplot(data=df, x=\"day\", y=\"total_bill\",hue='sex',size=)"
   ]
  },
  {
   "cell_type": "code",
   "execution_count": null,
   "id": "4ca2dcce",
   "metadata": {},
   "outputs": [],
   "source": [
    "sns.catplot(data=df, kind=\"swarm\", x=\"day\", y=\"total_bill\", hue=\"smoker\")"
   ]
  },
  {
   "cell_type": "code",
   "execution_count": null,
   "id": "0fe2ffa9",
   "metadata": {},
   "outputs": [],
   "source": []
  },
  {
   "cell_type": "code",
   "execution_count": null,
   "id": "6ed72d33",
   "metadata": {},
   "outputs": [],
   "source": [
    "sns.catplot(data=df, kind=\"strip\", x=\"day\", y=\"total_bill\", hue=\"smoker\")"
   ]
  },
  {
   "cell_type": "code",
   "execution_count": null,
   "id": "b0c71b71",
   "metadata": {},
   "outputs": [],
   "source": [
    "sns.catplot(data=df, x=\"total_bill\", y=\"day\", hue=\"time\", kind=\"swarm\")"
   ]
  },
  {
   "cell_type": "code",
   "execution_count": null,
   "id": "a3927920",
   "metadata": {},
   "outputs": [],
   "source": [
    "sns.barplot(x=df[\"size\"], y=df[\"total_bill\"],hue=df['sex']);"
   ]
  },
  {
   "cell_type": "code",
   "execution_count": null,
   "id": "4b1121a5",
   "metadata": {},
   "outputs": [],
   "source": [
    "df"
   ]
  },
  {
   "cell_type": "code",
   "execution_count": null,
   "id": "fc070d73",
   "metadata": {},
   "outputs": [],
   "source": [
    "sns.histplot(df[\"day\"])"
   ]
  },
  {
   "cell_type": "code",
   "execution_count": null,
   "id": "2f89811b",
   "metadata": {},
   "outputs": [],
   "source": [
    "sns.histplot(df[\"time\"])"
   ]
  },
  {
   "cell_type": "code",
   "execution_count": null,
   "id": "6a384613",
   "metadata": {},
   "outputs": [],
   "source": [
    "sns.histplot(df[\"size\"])"
   ]
  },
  {
   "cell_type": "code",
   "execution_count": null,
   "id": "0e8c67a9",
   "metadata": {},
   "outputs": [],
   "source": [
    "sns.barplot(x=df[\"day\"], y=df[\"total_bill\"]);"
   ]
  },
  {
   "cell_type": "code",
   "execution_count": null,
   "id": "35917e2d",
   "metadata": {},
   "outputs": [],
   "source": [
    "sns.boxplot(df[\"total_bill\"])"
   ]
  },
  {
   "cell_type": "code",
   "execution_count": null,
   "id": "73556794",
   "metadata": {},
   "outputs": [],
   "source": []
  }
 ],
 "metadata": {
  "kernelspec": {
   "display_name": "Python 3 (ipykernel)",
   "language": "python",
   "name": "python3"
  },
  "language_info": {
   "codemirror_mode": {
    "name": "ipython",
    "version": 3
   },
   "file_extension": ".py",
   "mimetype": "text/x-python",
   "name": "python",
   "nbconvert_exporter": "python",
   "pygments_lexer": "ipython3",
   "version": "3.9.7"
  }
 },
 "nbformat": 4,
 "nbformat_minor": 5
}
